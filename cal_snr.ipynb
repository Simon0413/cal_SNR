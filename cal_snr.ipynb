{
 "cells": [
  {
   "cell_type": "code",
   "execution_count": 1,
   "metadata": {},
   "outputs": [],
   "source": [
    "import obspy\n",
    "from dbdata import Client\n",
    "import json\n",
    "import datetime\n",
    "import math"
   ]
  },
  {
   "cell_type": "code",
   "execution_count": 2,
   "metadata": {},
   "outputs": [],
   "source": [
    "sta_file = \"./data/test.sta\"\n",
    "pha_file = \"./data/test.phase\"\n",
    "sql_file = \"./data/test.sqlite\"\n",
    "tt_file = \"./data/tt_exmp.json\"\n",
    "out_file = \"./data/test.snr\""
   ]
  },
  {
   "cell_type": "code",
   "execution_count": 3,
   "metadata": {},
   "outputs": [
    {
     "name": "stdout",
     "output_type": "stream",
     "text": [
      "reading stations file...end.\n"
     ]
    }
   ],
   "source": [
    "# reading stations file\n",
    "def _readStaFile(stationfile):\n",
    "        stations={}\n",
    "        file_ = open(stationfile, \"r\", encoding=\"utf-8\")\n",
    "        for line in file_.readlines():\n",
    "            sline = [i for i in line.split(\" \") if len(i)>0]\n",
    "            stations[sline[0]+\".\"+sline[1]+\".\"+sline[2]]={\"lon\":float(sline[3]),\n",
    "                    \"lat\": float(sline[4]),\n",
    "                    \"ele\": float(sline[5]),\n",
    "                    \"net\": sline[0],\n",
    "                    \"sta\": sline[1],\n",
    "                    \"num\": sline[2]}\n",
    "        file_.close()\n",
    "        return stations\n",
    "print(\"reading stations file...\",end = \"\")\n",
    "stations=_readStaFile(sta_file)\n",
    "print(\"end.\")"
   ]
  },
  {
   "cell_type": "code",
   "execution_count": 4,
   "metadata": {},
   "outputs": [
    {
     "name": "stdout",
     "output_type": "stream",
     "text": [
      "reading phase file...end.\n"
     ]
    }
   ],
   "source": [
    "# reading phase file\n",
    "def _readFhaFile(phasefile):\n",
    "    phas = {}\n",
    "    with open(pha_file, \"r\") as f:\n",
    "        lines = f.readlines()\n",
    "        event = \"event\"\n",
    "        pha = [\"phase\"]\n",
    "        for line in lines:\n",
    "            if line[0] == \"#\":\n",
    "                phas[event] = pha\n",
    "                event = line\n",
    "                pha = []\n",
    "            else:\n",
    "                pha.append(line)\n",
    "    del phas[\"event\"]\n",
    "    return phas\n",
    "print(\"reading phase file...\",end = \"\")\n",
    "catalog = _readFhaFile(pha_file)\n",
    "print(\"end.\")"
   ]
  },
  {
   "cell_type": "code",
   "execution_count": 5,
   "metadata": {},
   "outputs": [],
   "source": [
    "# function to calculate the SNR\n",
    "def Cal_SNR(st,ptime,stime,phase):\n",
    "    count = 0\n",
    "    sum_SNR = 0\n",
    "    delay = float(stime-ptime)\n",
    "    for tr in st:\n",
    "        count += 1\n",
    "        if phase == \"P\":\n",
    "            signal = tr.copy()\n",
    "            signal.trim(starttime=ptime, endtime=ptime+delay/4, pad=True, nearest_sample=False, fill_value=0)\n",
    "        else:\n",
    "            signal = tr.copy()\n",
    "            signal.trim(starttime=stime, endtime=stime+delay/4, pad=True, nearest_sample=False, fill_value=0)\n",
    "        noise = tr.copy()\n",
    "        noise.trim(starttime=ptime-delay/5-delay/4, endtime=ptime-delay/5, pad=True, nearest_sample=False, fill_value=0)\n",
    "        snr = ((signal.data ** 2).sum() / len(signal.data)) / ((noise.data ** 2).sum() / len(noise.data))\n",
    "        snr = 10 * math.log10(snr)\n",
    "        sum_SNR += snr\n",
    "    if count == 0:\n",
    "        return -1\n",
    "    else:\n",
    "        return sum_SNR/count"
   ]
  },
  {
   "cell_type": "code",
   "execution_count": 6,
   "metadata": {},
   "outputs": [],
   "source": [
    "# Converts information from the earthquake catalog into a dictionary\n",
    "cata_time = {}\n",
    "for key in catalog.keys():\n",
    "    event = key.split()[1]\n",
    "    cata_time[event] = {}\n",
    "    for val in catalog[key]:\n",
    "        val = val.split(\",\")\n",
    "        sta = val[4].split(\".\")[0]+val[4].split(\".\")[1]\n",
    "        try:\n",
    "            cata_time[event][sta][\"dist\"] = float(val[6])\n",
    "            cata_time[event][sta][val[0]] = float(val[1])\n",
    "        except:\n",
    "            cata_time[event][sta] = {}\n",
    "            cata_time[event][sta][\"dist\"] = float(val[6])\n",
    "            cata_time[event][sta][val[0]] = float(val[1])\n",
    "cleaned = {}\n",
    "for key, value in cata_time.items():\n",
    "    if value:\n",
    "        cleaned[key] = value\n",
    "cata_time = cleaned"
   ]
  },
  {
   "cell_type": "code",
   "execution_count": 7,
   "metadata": {},
   "outputs": [
    {
     "name": "stdout",
     "output_type": "stream",
     "text": [
      "reading predict travel time file...end\n"
     ]
    }
   ],
   "source": [
    "# Read predictive travel time information file\n",
    "print(\"reading predict travel time file...\",end = \"\")\n",
    "with open(tt_file, 'r') as f:\n",
    "    t_time = json.load(f)\n",
    "print(\"end\")"
   ]
  },
  {
   "cell_type": "code",
   "execution_count": 8,
   "metadata": {},
   "outputs": [
    {
     "name": "stdout",
     "output_type": "stream",
     "text": [
      "Start calculating the SNR...\n",
      "DBDATA INITED\n",
      "end\n"
     ]
    },
    {
     "name": "stderr",
     "output_type": "stream",
     "text": [
      "/tmp/ipykernel_18784/1862552253.py:3: ObsPyDeprecationWarning: Deprecated keyword loglevel in __init__() call - ignoring.\n",
      "  client = Client(sql_file)\n"
     ]
    }
   ],
   "source": [
    "print(\"Start calculating the SNR...\")\n",
    "f = open(out_file,\"w\")\n",
    "client = Client(sql_file)\n",
    "cha = \"?H?\"\n",
    "for key in catalog.keys():\n",
    "    f.writelines(key)\n",
    "    event = key.split()\n",
    "    etime = datetime.datetime.strptime(f\"{event[3]}-{event[4]}-{event[5]} \\\n",
    "                                       {event[7]}:{event[8]}:{event[9]}.{event[10]}\",\\\n",
    "                                        \"%Y-%m-%d %H:%M:%S.%f\")\n",
    "    etime = obspy.UTCDateTime(etime.strftime(\"%Y/%m/%dT%H:%M:%S.%f\"))\n",
    "    for val in catalog[key]:\n",
    "        phase = val.split(\",\")\n",
    "        sta = phase[4]\n",
    "        if phase[0] == \"P\":\n",
    "            ptime = etime + float(val.split(\",\")[1])\n",
    "            try:\n",
    "                stime = etime + cata_time[event[1]][sta.split(\".\")[0]+sta.split(\".\")[1]][\"S\"]\n",
    "            except:\n",
    "                stime = etime + t_time[event[1]][sta.split(\".\")[0]+sta.split(\".\")[1]][\"S\"]\n",
    "        else:\n",
    "            stime = etime + float(val.split(\",\")[1])\n",
    "            try:\n",
    "                ptime = etime + cata_time[event[1]][sta.split(\".\")[0]+sta.split(\".\")[1]][\"P\"]\n",
    "            except:\n",
    "                ptime = etime + t_time[event[1]][sta.split(\".\")[0]+sta.split(\".\")[1]][\"P\"]\n",
    "        delay = float(stime-ptime)\n",
    "        try:\n",
    "            st = client.get_waveforms(stations[sta][\"net\"],\n",
    "                    stations[sta][\"sta\"],\n",
    "                    stations[sta][\"num\"], cha, ptime-delay, stime+delay)\n",
    "            st.detrend(type='demean')\n",
    "            st.detrend(type='linear')\n",
    "            st.taper(max_percentage=0.05, max_length=0.5)\n",
    "            st.filter(type='bandpass', freqmin=1, freqmax=50)\n",
    "            SNR = Cal_SNR(st,ptime,stime,phase[0])\n",
    "        except:\n",
    "            SNR = -1\n",
    "        f.writelines(val[:-2]+\",SNR,\"+str(SNR)+\"\\n\")\n",
    "f.close()\n",
    "print(\"end\")"
   ]
  },
  {
   "cell_type": "code",
   "execution_count": null,
   "metadata": {},
   "outputs": [],
   "source": []
  }
 ],
 "metadata": {
  "kernelspec": {
   "display_name": "lianghr",
   "language": "python",
   "name": "python3"
  },
  "language_info": {
   "codemirror_mode": {
    "name": "ipython",
    "version": 3
   },
   "file_extension": ".py",
   "mimetype": "text/x-python",
   "name": "python",
   "nbconvert_exporter": "python",
   "pygments_lexer": "ipython3",
   "version": "3.9.18"
  }
 },
 "nbformat": 4,
 "nbformat_minor": 2
}
